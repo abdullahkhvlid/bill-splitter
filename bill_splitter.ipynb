{
  "nbformat": 4,
  "nbformat_minor": 0,
  "metadata": {
    "colab": {
      "provenance": []
    },
    "kernelspec": {
      "name": "python3",
      "display_name": "Python 3"
    },
    "language_info": {
      "name": "python"
    }
  },
  "cells": [
    {
      "cell_type": "code",
      "source": [
        "userlst = []\n",
        "useramt = []\n",
        "userdict = {}\n",
        "\n",
        "try:\n",
        "    while True:\n",
        "        bill = int(input(\"Enter your total bill: \"))\n",
        "        break\n",
        "\n",
        "    while True:\n",
        "        user = input(\"Name of people paying the bill (stop = 0): \")\n",
        "        if user == \"0\":\n",
        "            break\n",
        "        amount = int(input(f\"Enter the amount {user} is paying: \"))\n",
        "        userlst.append(user)\n",
        "        useramt.append(amount)\n",
        "        userdict[user] = amount\n",
        "\n",
        "    share = bill / len(userlst)\n",
        "    print(\"The average share for each person is\", share)\n",
        "    print(userdict)\n",
        "\n",
        "    for i in list(userdict):\n",
        "        if userdict[i] > share:\n",
        "            due = userdict[i] - share\n",
        "            print(f\"{i} should get {due} more\")\n",
        "\n",
        "        elif userdict[i] < share:\n",
        "            due = share - userdict[i]\n",
        "            print(f\"{i} should pay {due} more\")\n",
        "\n",
        "        elif userdict[i] == share:\n",
        "            print(f\"{i} should pay nothing\")\n",
        "\n",
        "        else:\n",
        "            print(\"Everyone paid equally\")\n",
        "\n",
        "except:\n",
        "    print(\"Enter a valid value\")\n"
      ],
      "metadata": {
        "colab": {
          "base_uri": "https://localhost:8080/"
        },
        "id": "pO5MvrruUYDs",
        "outputId": "7b1c3f4b-d5a5-49f6-a111-4c8e67fbae21"
      },
      "execution_count": 24,
      "outputs": [
        {
          "output_type": "stream",
          "name": "stdout",
          "text": [
            "Enter your total bill: 1000\n",
            "Name of people paying the bill (stop = 0): Alan\n",
            "Enter the amount Alan is paying: 240\n",
            "Name of people paying the bill (stop = 0): Zack\n",
            "Enter the amount Zack is paying: 750\n",
            "Name of people paying the bill (stop = 0): Jimmy\n",
            "Enter the amount Jimmy is paying: 260\n",
            "Name of people paying the bill (stop = 0): 0\n",
            "The average share for each person is 333.3333333333333\n",
            "{'Alan': 240, 'Zack': 750, 'Jimmy': 260}\n",
            "Alan should pay 93.33333333333331 more\n",
            "Zack should get 416.6666666666667 more\n",
            "Jimmy should pay 73.33333333333331 more\n"
          ]
        }
      ]
    },
    {
      "cell_type": "code",
      "source": [],
      "metadata": {
        "id": "gK9WIxhbcq-j"
      },
      "execution_count": null,
      "outputs": []
    }
  ]
}